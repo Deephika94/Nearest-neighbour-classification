{
 "cells": [
  {
   "cell_type": "code",
   "execution_count": 1,
   "id": "e1306e57",
   "metadata": {
    "_cell_guid": "b1076dfc-b9ad-4769-8c92-a6c4dae69d19",
    "_uuid": "8f2839f25d086af736a60e9eeb907d3b93b6e0e5",
    "execution": {
     "iopub.execute_input": "2024-01-30T22:10:54.043976Z",
     "iopub.status.busy": "2024-01-30T22:10:54.042949Z",
     "iopub.status.idle": "2024-01-30T22:10:55.249496Z",
     "shell.execute_reply": "2024-01-30T22:10:55.247629Z"
    },
    "papermill": {
     "duration": 1.225327,
     "end_time": "2024-01-30T22:10:55.253116",
     "exception": false,
     "start_time": "2024-01-30T22:10:54.027789",
     "status": "completed"
    },
    "tags": []
   },
   "outputs": [
    {
     "name": "stdout",
     "output_type": "stream",
     "text": [
      "/kaggle/input/drug-classification/drug200.csv\n"
     ]
    }
   ],
   "source": [
    "# This Python 3 environment comes with many helpful analytics libraries installed\n",
    "# It is defined by the kaggle/python Docker image: https://github.com/kaggle/docker-python\n",
    "# For example, here's several helpful packages to load\n",
    "\n",
    "import numpy as np # linear algebra\n",
    "import pandas as pd # data processing, CSV file I/O (e.g. pd.read_csv)\n",
    "import random\n",
    "\n",
    "# Input data files are available in the read-only \"../input/\" directory\n",
    "# For example, running this (by clicking run or pressing Shift+Enter) will list all files under the input directory\n",
    "\n",
    "import os\n",
    "for dirname, _, filenames in os.walk('/kaggle/input'):\n",
    "    for filename in filenames:\n",
    "        print(os.path.join(dirname, filename))\n",
    "\n",
    "# You can write up to 20GB to the current directory (/kaggle/working/) that gets preserved as output when you create a version using \"Save & Run All\" \n",
    "# You can also write temporary files to /kaggle/temp/, but they won't be saved outside of the current session"
   ]
  },
  {
   "cell_type": "code",
   "execution_count": 2,
   "id": "f3d513a1",
   "metadata": {
    "execution": {
     "iopub.execute_input": "2024-01-30T22:10:55.277436Z",
     "iopub.status.busy": "2024-01-30T22:10:55.276810Z",
     "iopub.status.idle": "2024-01-30T22:10:55.303791Z",
     "shell.execute_reply": "2024-01-30T22:10:55.302236Z"
    },
    "papermill": {
     "duration": 0.042771,
     "end_time": "2024-01-30T22:10:55.307170",
     "exception": false,
     "start_time": "2024-01-30T22:10:55.264399",
     "status": "completed"
    },
    "tags": []
   },
   "outputs": [],
   "source": [
    "data = pd.read_csv(\"/kaggle/input/drug-classification/drug200.csv\")"
   ]
  },
  {
   "cell_type": "code",
   "execution_count": 3,
   "id": "b09e9f0b",
   "metadata": {
    "execution": {
     "iopub.execute_input": "2024-01-30T22:10:55.332500Z",
     "iopub.status.busy": "2024-01-30T22:10:55.331999Z",
     "iopub.status.idle": "2024-01-30T22:10:55.341933Z",
     "shell.execute_reply": "2024-01-30T22:10:55.340585Z"
    },
    "papermill": {
     "duration": 0.026255,
     "end_time": "2024-01-30T22:10:55.344788",
     "exception": false,
     "start_time": "2024-01-30T22:10:55.318533",
     "status": "completed"
    },
    "tags": []
   },
   "outputs": [
    {
     "data": {
      "text/plain": [
       "(200, 6)"
      ]
     },
     "execution_count": 3,
     "metadata": {},
     "output_type": "execute_result"
    }
   ],
   "source": [
    "data.shape"
   ]
  },
  {
   "cell_type": "markdown",
   "id": "c3ca955f",
   "metadata": {
    "papermill": {
     "duration": 0.011062,
     "end_time": "2024-01-30T22:10:55.367201",
     "exception": false,
     "start_time": "2024-01-30T22:10:55.356139",
     "status": "completed"
    },
    "tags": []
   },
   "source": [
    "200 rows and 6 columns"
   ]
  },
  {
   "cell_type": "code",
   "execution_count": 4,
   "id": "3d749a0c",
   "metadata": {
    "execution": {
     "iopub.execute_input": "2024-01-30T22:10:55.392345Z",
     "iopub.status.busy": "2024-01-30T22:10:55.391473Z",
     "iopub.status.idle": "2024-01-30T22:10:55.423028Z",
     "shell.execute_reply": "2024-01-30T22:10:55.421562Z"
    },
    "papermill": {
     "duration": 0.047924,
     "end_time": "2024-01-30T22:10:55.426507",
     "exception": false,
     "start_time": "2024-01-30T22:10:55.378583",
     "status": "completed"
    },
    "tags": []
   },
   "outputs": [
    {
     "data": {
      "text/html": [
       "<div>\n",
       "<style scoped>\n",
       "    .dataframe tbody tr th:only-of-type {\n",
       "        vertical-align: middle;\n",
       "    }\n",
       "\n",
       "    .dataframe tbody tr th {\n",
       "        vertical-align: top;\n",
       "    }\n",
       "\n",
       "    .dataframe thead th {\n",
       "        text-align: right;\n",
       "    }\n",
       "</style>\n",
       "<table border=\"1\" class=\"dataframe\">\n",
       "  <thead>\n",
       "    <tr style=\"text-align: right;\">\n",
       "      <th></th>\n",
       "      <th>Age</th>\n",
       "      <th>Sex</th>\n",
       "      <th>BP</th>\n",
       "      <th>Cholesterol</th>\n",
       "      <th>Na_to_K</th>\n",
       "      <th>Drug</th>\n",
       "    </tr>\n",
       "  </thead>\n",
       "  <tbody>\n",
       "    <tr>\n",
       "      <th>0</th>\n",
       "      <td>23</td>\n",
       "      <td>F</td>\n",
       "      <td>HIGH</td>\n",
       "      <td>HIGH</td>\n",
       "      <td>25.355</td>\n",
       "      <td>DrugY</td>\n",
       "    </tr>\n",
       "    <tr>\n",
       "      <th>1</th>\n",
       "      <td>47</td>\n",
       "      <td>M</td>\n",
       "      <td>LOW</td>\n",
       "      <td>HIGH</td>\n",
       "      <td>13.093</td>\n",
       "      <td>drugC</td>\n",
       "    </tr>\n",
       "    <tr>\n",
       "      <th>2</th>\n",
       "      <td>47</td>\n",
       "      <td>M</td>\n",
       "      <td>LOW</td>\n",
       "      <td>HIGH</td>\n",
       "      <td>10.114</td>\n",
       "      <td>drugC</td>\n",
       "    </tr>\n",
       "    <tr>\n",
       "      <th>3</th>\n",
       "      <td>28</td>\n",
       "      <td>F</td>\n",
       "      <td>NORMAL</td>\n",
       "      <td>HIGH</td>\n",
       "      <td>7.798</td>\n",
       "      <td>drugX</td>\n",
       "    </tr>\n",
       "    <tr>\n",
       "      <th>4</th>\n",
       "      <td>61</td>\n",
       "      <td>F</td>\n",
       "      <td>LOW</td>\n",
       "      <td>HIGH</td>\n",
       "      <td>18.043</td>\n",
       "      <td>DrugY</td>\n",
       "    </tr>\n",
       "  </tbody>\n",
       "</table>\n",
       "</div>"
      ],
      "text/plain": [
       "   Age Sex      BP Cholesterol  Na_to_K   Drug\n",
       "0   23   F    HIGH        HIGH   25.355  DrugY\n",
       "1   47   M     LOW        HIGH   13.093  drugC\n",
       "2   47   M     LOW        HIGH   10.114  drugC\n",
       "3   28   F  NORMAL        HIGH    7.798  drugX\n",
       "4   61   F     LOW        HIGH   18.043  DrugY"
      ]
     },
     "execution_count": 4,
     "metadata": {},
     "output_type": "execute_result"
    }
   ],
   "source": [
    "data.head()"
   ]
  },
  {
   "cell_type": "code",
   "execution_count": 5,
   "id": "f01b93a2",
   "metadata": {
    "execution": {
     "iopub.execute_input": "2024-01-30T22:10:55.452697Z",
     "iopub.status.busy": "2024-01-30T22:10:55.452158Z",
     "iopub.status.idle": "2024-01-30T22:10:55.464997Z",
     "shell.execute_reply": "2024-01-30T22:10:55.463586Z"
    },
    "papermill": {
     "duration": 0.029228,
     "end_time": "2024-01-30T22:10:55.467875",
     "exception": false,
     "start_time": "2024-01-30T22:10:55.438647",
     "status": "completed"
    },
    "tags": []
   },
   "outputs": [
    {
     "data": {
      "text/plain": [
       "Age            0\n",
       "Sex            0\n",
       "BP             0\n",
       "Cholesterol    0\n",
       "Na_to_K        0\n",
       "Drug           0\n",
       "dtype: int64"
      ]
     },
     "execution_count": 5,
     "metadata": {},
     "output_type": "execute_result"
    }
   ],
   "source": [
    "data.isna().sum()\n",
    "# no NAs in the data"
   ]
  },
  {
   "cell_type": "markdown",
   "id": "46637077",
   "metadata": {
    "papermill": {
     "duration": 0.012299,
     "end_time": "2024-01-30T22:10:55.492427",
     "exception": false,
     "start_time": "2024-01-30T22:10:55.480128",
     "status": "completed"
    },
    "tags": []
   },
   "source": [
    "### Drug classes"
   ]
  },
  {
   "cell_type": "code",
   "execution_count": 6,
   "id": "9144c8a0",
   "metadata": {
    "execution": {
     "iopub.execute_input": "2024-01-30T22:10:55.519336Z",
     "iopub.status.busy": "2024-01-30T22:10:55.518373Z",
     "iopub.status.idle": "2024-01-30T22:10:55.536598Z",
     "shell.execute_reply": "2024-01-30T22:10:55.535464Z"
    },
    "papermill": {
     "duration": 0.035135,
     "end_time": "2024-01-30T22:10:55.539803",
     "exception": false,
     "start_time": "2024-01-30T22:10:55.504668",
     "status": "completed"
    },
    "tags": []
   },
   "outputs": [
    {
     "data": {
      "text/plain": [
       "array(['DrugY', 'drugC', 'drugX', 'drugA', 'drugB'], dtype=object)"
      ]
     },
     "execution_count": 6,
     "metadata": {},
     "output_type": "execute_result"
    }
   ],
   "source": [
    "data.Drug.unique()"
   ]
  },
  {
   "cell_type": "code",
   "execution_count": 7,
   "id": "0d73f60e",
   "metadata": {
    "execution": {
     "iopub.execute_input": "2024-01-30T22:10:55.566363Z",
     "iopub.status.busy": "2024-01-30T22:10:55.565859Z",
     "iopub.status.idle": "2024-01-30T22:10:55.571913Z",
     "shell.execute_reply": "2024-01-30T22:10:55.570272Z"
    },
    "papermill": {
     "duration": 0.023054,
     "end_time": "2024-01-30T22:10:55.574904",
     "exception": false,
     "start_time": "2024-01-30T22:10:55.551850",
     "status": "completed"
    },
    "tags": []
   },
   "outputs": [],
   "source": [
    "#  List comprehension\n",
    "#print([3 if test_data.loc[i,\"BP\"] == \"HIGH\" else 2 if test_data.loc[i,\"BP\"] == \"NORMAL\" else 1 for i in range(len(test_data))])"
   ]
  },
  {
   "cell_type": "markdown",
   "id": "829c4054",
   "metadata": {
    "papermill": {
     "duration": 0.011738,
     "end_time": "2024-01-30T22:10:55.598785",
     "exception": false,
     "start_time": "2024-01-30T22:10:55.587047",
     "status": "completed"
    },
    "tags": []
   },
   "source": [
    "#### BP column"
   ]
  },
  {
   "cell_type": "code",
   "execution_count": 8,
   "id": "3d9b31f4",
   "metadata": {
    "execution": {
     "iopub.execute_input": "2024-01-30T22:10:55.627006Z",
     "iopub.status.busy": "2024-01-30T22:10:55.626519Z",
     "iopub.status.idle": "2024-01-30T22:10:55.641766Z",
     "shell.execute_reply": "2024-01-30T22:10:55.640541Z"
    },
    "papermill": {
     "duration": 0.033551,
     "end_time": "2024-01-30T22:10:55.645324",
     "exception": false,
     "start_time": "2024-01-30T22:10:55.611773",
     "status": "completed"
    },
    "tags": []
   },
   "outputs": [
    {
     "data": {
      "text/plain": [
       "BP\n",
       "HIGH      77\n",
       "LOW       64\n",
       "NORMAL    59\n",
       "Name: Age, dtype: int64"
      ]
     },
     "execution_count": 8,
     "metadata": {},
     "output_type": "execute_result"
    }
   ],
   "source": [
    "data.groupby(by=\"BP\").Age.count()"
   ]
  },
  {
   "cell_type": "markdown",
   "id": "9ffc6677",
   "metadata": {
    "papermill": {
     "duration": 0.011417,
     "end_time": "2024-01-30T22:10:55.669320",
     "exception": false,
     "start_time": "2024-01-30T22:10:55.657903",
     "status": "completed"
    },
    "tags": []
   },
   "source": [
    "BP :\n",
    "Low-1\n",
    "Normal-2\n",
    "High-3"
   ]
  },
  {
   "cell_type": "code",
   "execution_count": 9,
   "id": "a47a56aa",
   "metadata": {
    "execution": {
     "iopub.execute_input": "2024-01-30T22:10:55.695717Z",
     "iopub.status.busy": "2024-01-30T22:10:55.694665Z",
     "iopub.status.idle": "2024-01-30T22:10:55.705669Z",
     "shell.execute_reply": "2024-01-30T22:10:55.704039Z"
    },
    "papermill": {
     "duration": 0.027682,
     "end_time": "2024-01-30T22:10:55.708775",
     "exception": false,
     "start_time": "2024-01-30T22:10:55.681093",
     "status": "completed"
    },
    "tags": []
   },
   "outputs": [],
   "source": [
    "# Coding numeric values to the column BP\n",
    "bp = {\"HIGH\": 3, \"NORMAL\":2, \"LOW\":1}\n",
    "data.BP = data.BP.apply(lambda s: bp[s])"
   ]
  },
  {
   "cell_type": "markdown",
   "id": "4824d427",
   "metadata": {
    "papermill": {
     "duration": 0.011314,
     "end_time": "2024-01-30T22:10:55.732073",
     "exception": false,
     "start_time": "2024-01-30T22:10:55.720759",
     "status": "completed"
    },
    "tags": []
   },
   "source": [
    "### Cholesterol column"
   ]
  },
  {
   "cell_type": "code",
   "execution_count": 10,
   "id": "2aa2e541",
   "metadata": {
    "execution": {
     "iopub.execute_input": "2024-01-30T22:10:55.759520Z",
     "iopub.status.busy": "2024-01-30T22:10:55.758970Z",
     "iopub.status.idle": "2024-01-30T22:10:55.771058Z",
     "shell.execute_reply": "2024-01-30T22:10:55.769688Z"
    },
    "papermill": {
     "duration": 0.029389,
     "end_time": "2024-01-30T22:10:55.774150",
     "exception": false,
     "start_time": "2024-01-30T22:10:55.744761",
     "status": "completed"
    },
    "tags": []
   },
   "outputs": [
    {
     "data": {
      "text/plain": [
       "Cholesterol\n",
       "HIGH      103\n",
       "NORMAL     97\n",
       "Name: Age, dtype: int64"
      ]
     },
     "execution_count": 10,
     "metadata": {},
     "output_type": "execute_result"
    }
   ],
   "source": [
    "data.groupby(by=\"Cholesterol\").Age.count()"
   ]
  },
  {
   "cell_type": "markdown",
   "id": "ffcccc6b",
   "metadata": {
    "papermill": {
     "duration": 0.012058,
     "end_time": "2024-01-30T22:10:55.798855",
     "exception": false,
     "start_time": "2024-01-30T22:10:55.786797",
     "status": "completed"
    },
    "tags": []
   },
   "source": [
    "Cholesterol:\n",
    "Normal-1\n",
    "High- 2"
   ]
  },
  {
   "cell_type": "code",
   "execution_count": 11,
   "id": "2cd2c47d",
   "metadata": {
    "execution": {
     "iopub.execute_input": "2024-01-30T22:10:55.825134Z",
     "iopub.status.busy": "2024-01-30T22:10:55.824587Z",
     "iopub.status.idle": "2024-01-30T22:10:55.832766Z",
     "shell.execute_reply": "2024-01-30T22:10:55.831170Z"
    },
    "papermill": {
     "duration": 0.024608,
     "end_time": "2024-01-30T22:10:55.835517",
     "exception": false,
     "start_time": "2024-01-30T22:10:55.810909",
     "status": "completed"
    },
    "tags": []
   },
   "outputs": [],
   "source": [
    "# Coding numeric values to the column Cholestrol\n",
    "ch = {\"HIGH\": 2, \"NORMAL\":1}\n",
    "data.Cholesterol = data.Cholesterol.apply(lambda c: ch[c])"
   ]
  },
  {
   "cell_type": "markdown",
   "id": "3ae47ed8",
   "metadata": {
    "papermill": {
     "duration": 0.012324,
     "end_time": "2024-01-30T22:10:55.859868",
     "exception": false,
     "start_time": "2024-01-30T22:10:55.847544",
     "status": "completed"
    },
    "tags": []
   },
   "source": [
    "### Sex column"
   ]
  },
  {
   "cell_type": "code",
   "execution_count": 12,
   "id": "0f110877",
   "metadata": {
    "execution": {
     "iopub.execute_input": "2024-01-30T22:10:55.887302Z",
     "iopub.status.busy": "2024-01-30T22:10:55.886796Z",
     "iopub.status.idle": "2024-01-30T22:10:55.897426Z",
     "shell.execute_reply": "2024-01-30T22:10:55.896408Z"
    },
    "papermill": {
     "duration": 0.02762,
     "end_time": "2024-01-30T22:10:55.899884",
     "exception": false,
     "start_time": "2024-01-30T22:10:55.872264",
     "status": "completed"
    },
    "tags": []
   },
   "outputs": [
    {
     "data": {
      "text/plain": [
       "Sex\n",
       "F     96\n",
       "M    104\n",
       "Name: Age, dtype: int64"
      ]
     },
     "execution_count": 12,
     "metadata": {},
     "output_type": "execute_result"
    }
   ],
   "source": [
    "data.groupby(by=\"Sex\").Age.count()"
   ]
  },
  {
   "cell_type": "markdown",
   "id": "6d7893c9",
   "metadata": {
    "papermill": {
     "duration": 0.011601,
     "end_time": "2024-01-30T22:10:55.923598",
     "exception": false,
     "start_time": "2024-01-30T22:10:55.911997",
     "status": "completed"
    },
    "tags": []
   },
   "source": [
    "\n",
    "Sex:\n",
    "Female-1\n",
    "Male-2"
   ]
  },
  {
   "cell_type": "code",
   "execution_count": 13,
   "id": "c275c226",
   "metadata": {
    "execution": {
     "iopub.execute_input": "2024-01-30T22:10:55.950871Z",
     "iopub.status.busy": "2024-01-30T22:10:55.950344Z",
     "iopub.status.idle": "2024-01-30T22:10:55.958839Z",
     "shell.execute_reply": "2024-01-30T22:10:55.957295Z"
    },
    "papermill": {
     "duration": 0.027099,
     "end_time": "2024-01-30T22:10:55.962664",
     "exception": false,
     "start_time": "2024-01-30T22:10:55.935565",
     "status": "completed"
    },
    "tags": []
   },
   "outputs": [],
   "source": [
    "# Coding numeric value to the column Sex\n",
    "sex = {\"F\":1, \"M\":2}\n",
    "data.Sex = data.Sex.apply(lambda s: sex[s])"
   ]
  },
  {
   "cell_type": "code",
   "execution_count": 14,
   "id": "063ad495",
   "metadata": {
    "execution": {
     "iopub.execute_input": "2024-01-30T22:10:55.989110Z",
     "iopub.status.busy": "2024-01-30T22:10:55.988425Z",
     "iopub.status.idle": "2024-01-30T22:10:56.004495Z",
     "shell.execute_reply": "2024-01-30T22:10:56.003488Z"
    },
    "papermill": {
     "duration": 0.032666,
     "end_time": "2024-01-30T22:10:56.007324",
     "exception": false,
     "start_time": "2024-01-30T22:10:55.974658",
     "status": "completed"
    },
    "tags": []
   },
   "outputs": [
    {
     "data": {
      "text/html": [
       "<div>\n",
       "<style scoped>\n",
       "    .dataframe tbody tr th:only-of-type {\n",
       "        vertical-align: middle;\n",
       "    }\n",
       "\n",
       "    .dataframe tbody tr th {\n",
       "        vertical-align: top;\n",
       "    }\n",
       "\n",
       "    .dataframe thead th {\n",
       "        text-align: right;\n",
       "    }\n",
       "</style>\n",
       "<table border=\"1\" class=\"dataframe\">\n",
       "  <thead>\n",
       "    <tr style=\"text-align: right;\">\n",
       "      <th></th>\n",
       "      <th>Age</th>\n",
       "      <th>Sex</th>\n",
       "      <th>BP</th>\n",
       "      <th>Cholesterol</th>\n",
       "      <th>Na_to_K</th>\n",
       "      <th>Drug</th>\n",
       "    </tr>\n",
       "  </thead>\n",
       "  <tbody>\n",
       "    <tr>\n",
       "      <th>0</th>\n",
       "      <td>23</td>\n",
       "      <td>1</td>\n",
       "      <td>3</td>\n",
       "      <td>2</td>\n",
       "      <td>25.355</td>\n",
       "      <td>DrugY</td>\n",
       "    </tr>\n",
       "    <tr>\n",
       "      <th>1</th>\n",
       "      <td>47</td>\n",
       "      <td>2</td>\n",
       "      <td>1</td>\n",
       "      <td>2</td>\n",
       "      <td>13.093</td>\n",
       "      <td>drugC</td>\n",
       "    </tr>\n",
       "    <tr>\n",
       "      <th>2</th>\n",
       "      <td>47</td>\n",
       "      <td>2</td>\n",
       "      <td>1</td>\n",
       "      <td>2</td>\n",
       "      <td>10.114</td>\n",
       "      <td>drugC</td>\n",
       "    </tr>\n",
       "    <tr>\n",
       "      <th>3</th>\n",
       "      <td>28</td>\n",
       "      <td>1</td>\n",
       "      <td>2</td>\n",
       "      <td>2</td>\n",
       "      <td>7.798</td>\n",
       "      <td>drugX</td>\n",
       "    </tr>\n",
       "    <tr>\n",
       "      <th>4</th>\n",
       "      <td>61</td>\n",
       "      <td>1</td>\n",
       "      <td>1</td>\n",
       "      <td>2</td>\n",
       "      <td>18.043</td>\n",
       "      <td>DrugY</td>\n",
       "    </tr>\n",
       "  </tbody>\n",
       "</table>\n",
       "</div>"
      ],
      "text/plain": [
       "   Age  Sex  BP  Cholesterol  Na_to_K   Drug\n",
       "0   23    1   3            2   25.355  DrugY\n",
       "1   47    2   1            2   13.093  drugC\n",
       "2   47    2   1            2   10.114  drugC\n",
       "3   28    1   2            2    7.798  drugX\n",
       "4   61    1   1            2   18.043  DrugY"
      ]
     },
     "execution_count": 14,
     "metadata": {},
     "output_type": "execute_result"
    }
   ],
   "source": [
    "data.head()"
   ]
  },
  {
   "cell_type": "code",
   "execution_count": 15,
   "id": "6fbbb920",
   "metadata": {
    "execution": {
     "iopub.execute_input": "2024-01-30T22:10:56.034426Z",
     "iopub.status.busy": "2024-01-30T22:10:56.033954Z",
     "iopub.status.idle": "2024-01-30T22:10:56.041243Z",
     "shell.execute_reply": "2024-01-30T22:10:56.040208Z"
    },
    "papermill": {
     "duration": 0.02399,
     "end_time": "2024-01-30T22:10:56.043809",
     "exception": false,
     "start_time": "2024-01-30T22:10:56.019819",
     "status": "completed"
    },
    "tags": []
   },
   "outputs": [
    {
     "data": {
      "text/plain": [
       "pandas.core.frame.DataFrame"
      ]
     },
     "execution_count": 15,
     "metadata": {},
     "output_type": "execute_result"
    }
   ],
   "source": [
    "type(data)"
   ]
  },
  {
   "cell_type": "code",
   "execution_count": 16,
   "id": "82221b1b",
   "metadata": {
    "execution": {
     "iopub.execute_input": "2024-01-30T22:10:56.072270Z",
     "iopub.status.busy": "2024-01-30T22:10:56.071764Z",
     "iopub.status.idle": "2024-01-30T22:10:56.083184Z",
     "shell.execute_reply": "2024-01-30T22:10:56.081679Z"
    },
    "papermill": {
     "duration": 0.029019,
     "end_time": "2024-01-30T22:10:56.086113",
     "exception": false,
     "start_time": "2024-01-30T22:10:56.057094",
     "status": "completed"
    },
    "tags": []
   },
   "outputs": [],
   "source": [
    "# Splitting the data into training and testing data\n",
    "idx = random.sample(range(len(data)),150)\n",
    "train_data = data.iloc[idx,:]\n",
    "test_data = data.drop(idx)"
   ]
  },
  {
   "cell_type": "code",
   "execution_count": 17,
   "id": "51cd2d7d",
   "metadata": {
    "execution": {
     "iopub.execute_input": "2024-01-30T22:10:56.113948Z",
     "iopub.status.busy": "2024-01-30T22:10:56.113439Z",
     "iopub.status.idle": "2024-01-30T22:10:56.122088Z",
     "shell.execute_reply": "2024-01-30T22:10:56.120542Z"
    },
    "papermill": {
     "duration": 0.025689,
     "end_time": "2024-01-30T22:10:56.124541",
     "exception": false,
     "start_time": "2024-01-30T22:10:56.098852",
     "status": "completed"
    },
    "tags": []
   },
   "outputs": [],
   "source": [
    "# Training data\n",
    "trainx = train_data.iloc[:,:5]\n",
    "trainy = train_data.iloc[:,5]\n",
    "\n",
    "# Testing data\n",
    "testx = test_data.iloc[:,:5]\n",
    "testy = test_data.iloc[:,5]"
   ]
  },
  {
   "cell_type": "code",
   "execution_count": 18,
   "id": "dca47be9",
   "metadata": {
    "execution": {
     "iopub.execute_input": "2024-01-30T22:10:56.151484Z",
     "iopub.status.busy": "2024-01-30T22:10:56.150986Z",
     "iopub.status.idle": "2024-01-30T22:10:56.162051Z",
     "shell.execute_reply": "2024-01-30T22:10:56.160434Z"
    },
    "papermill": {
     "duration": 0.027815,
     "end_time": "2024-01-30T22:10:56.164834",
     "exception": false,
     "start_time": "2024-01-30T22:10:56.137019",
     "status": "completed"
    },
    "tags": []
   },
   "outputs": [
    {
     "data": {
      "text/plain": [
       "Age            31.000\n",
       "Sex             2.000\n",
       "BP              3.000\n",
       "Cholesterol     1.000\n",
       "Na_to_K        17.069\n",
       "Name: 74, dtype: float64"
      ]
     },
     "execution_count": 18,
     "metadata": {},
     "output_type": "execute_result"
    }
   ],
   "source": [
    "trainx.iloc[0,:]"
   ]
  },
  {
   "cell_type": "code",
   "execution_count": 19,
   "id": "833a150f",
   "metadata": {
    "execution": {
     "iopub.execute_input": "2024-01-30T22:10:56.193102Z",
     "iopub.status.busy": "2024-01-30T22:10:56.192580Z",
     "iopub.status.idle": "2024-01-30T22:10:56.201619Z",
     "shell.execute_reply": "2024-01-30T22:10:56.200637Z"
    },
    "papermill": {
     "duration": 0.026327,
     "end_time": "2024-01-30T22:10:56.203990",
     "exception": false,
     "start_time": "2024-01-30T22:10:56.177663",
     "status": "completed"
    },
    "tags": []
   },
   "outputs": [
    {
     "data": {
      "text/plain": [
       "Age            35.000\n",
       "Sex             1.000\n",
       "BP              3.000\n",
       "Cholesterol     2.000\n",
       "Na_to_K        12.894\n",
       "Name: 137, dtype: float64"
      ]
     },
     "execution_count": 19,
     "metadata": {},
     "output_type": "execute_result"
    }
   ],
   "source": [
    "trainx.iloc[1,:]"
   ]
  },
  {
   "cell_type": "code",
   "execution_count": 20,
   "id": "cf67414e",
   "metadata": {
    "execution": {
     "iopub.execute_input": "2024-01-30T22:10:56.232902Z",
     "iopub.status.busy": "2024-01-30T22:10:56.232038Z",
     "iopub.status.idle": "2024-01-30T22:10:56.243556Z",
     "shell.execute_reply": "2024-01-30T22:10:56.241805Z"
    },
    "papermill": {
     "duration": 0.029924,
     "end_time": "2024-01-30T22:10:56.246794",
     "exception": false,
     "start_time": "2024-01-30T22:10:56.216870",
     "status": "completed"
    },
    "tags": []
   },
   "outputs": [
    {
     "data": {
      "text/plain": [
       "Age           -4.000\n",
       "Sex            1.000\n",
       "BP             0.000\n",
       "Cholesterol   -1.000\n",
       "Na_to_K        4.175\n",
       "dtype: float64"
      ]
     },
     "execution_count": 20,
     "metadata": {},
     "output_type": "execute_result"
    }
   ],
   "source": [
    "trainx.iloc[0,:] - trainx.iloc[1,:]"
   ]
  },
  {
   "cell_type": "code",
   "execution_count": 21,
   "id": "dc7a6ec6",
   "metadata": {
    "execution": {
     "iopub.execute_input": "2024-01-30T22:10:56.370535Z",
     "iopub.status.busy": "2024-01-30T22:10:56.369984Z",
     "iopub.status.idle": "2024-01-30T22:10:56.379124Z",
     "shell.execute_reply": "2024-01-30T22:10:56.378092Z"
    },
    "papermill": {
     "duration": 0.02668,
     "end_time": "2024-01-30T22:10:56.381548",
     "exception": false,
     "start_time": "2024-01-30T22:10:56.354868",
     "status": "completed"
    },
    "tags": []
   },
   "outputs": [
    {
     "data": {
      "text/plain": [
       "0.17499999999999893"
      ]
     },
     "execution_count": 21,
     "metadata": {},
     "output_type": "execute_result"
    }
   ],
   "source": [
    "sum(trainx.iloc[0,:] - trainx.iloc[1,:])"
   ]
  },
  {
   "cell_type": "markdown",
   "id": "2c70a57d",
   "metadata": {
    "papermill": {
     "duration": 0.01307,
     "end_time": "2024-01-30T22:10:56.407961",
     "exception": false,
     "start_time": "2024-01-30T22:10:56.394891",
     "status": "completed"
    },
    "tags": []
   },
   "source": [
    "## **Nearest neighbour**"
   ]
  },
  {
   "cell_type": "code",
   "execution_count": 22,
   "id": "ad7efea5",
   "metadata": {
    "execution": {
     "iopub.execute_input": "2024-01-30T22:10:56.438288Z",
     "iopub.status.busy": "2024-01-30T22:10:56.437120Z",
     "iopub.status.idle": "2024-01-30T22:10:56.445681Z",
     "shell.execute_reply": "2024-01-30T22:10:56.443971Z"
    },
    "papermill": {
     "duration": 0.026869,
     "end_time": "2024-01-30T22:10:56.448990",
     "exception": false,
     "start_time": "2024-01-30T22:10:56.422121",
     "status": "completed"
    },
    "tags": []
   },
   "outputs": [],
   "source": [
    "# calculating L2 distance between 2 vectors\n",
    "def L2_distance(x,y):\n",
    "    distance = sum(pow(x - y,2))\n",
    "    return distance   \n",
    "\n",
    "def find_NN(testx_i):\n",
    "    idx = np.argmin([L2_distance(trainx.iloc[i,:],testx_i) for i in range(len(trainx))])\n",
    "    predicted_drug = trainy.iloc[idx,]\n",
    "    return predicted_drug"
   ]
  },
  {
   "cell_type": "code",
   "execution_count": 23,
   "id": "c20dac90",
   "metadata": {
    "execution": {
     "iopub.execute_input": "2024-01-30T22:10:56.479252Z",
     "iopub.status.busy": "2024-01-30T22:10:56.478708Z",
     "iopub.status.idle": "2024-01-30T22:10:59.274811Z",
     "shell.execute_reply": "2024-01-30T22:10:59.273362Z"
    },
    "papermill": {
     "duration": 2.815056,
     "end_time": "2024-01-30T22:10:59.277990",
     "exception": false,
     "start_time": "2024-01-30T22:10:56.462934",
     "status": "completed"
    },
    "tags": []
   },
   "outputs": [
    {
     "name": "stdout",
     "output_type": "stream",
     "text": [
      "L2 model time:  2.7883222103118896\n"
     ]
    }
   ],
   "source": [
    "import time\n",
    "t_before = time.time()\n",
    "predicted_drugs = [find_NN(testx.iloc[i,:]) for i in range(len(testx))]\n",
    "t_after = time.time()\n",
    "\n",
    "L2_model_time = t_after - t_before\n",
    "print(\"L2 model time: \",L2_model_time)"
   ]
  },
  {
   "cell_type": "code",
   "execution_count": 24,
   "id": "63b6c9cc",
   "metadata": {
    "execution": {
     "iopub.execute_input": "2024-01-30T22:10:59.309528Z",
     "iopub.status.busy": "2024-01-30T22:10:59.308768Z",
     "iopub.status.idle": "2024-01-30T22:11:01.467218Z",
     "shell.execute_reply": "2024-01-30T22:11:01.465675Z"
    },
    "papermill": {
     "duration": 2.177721,
     "end_time": "2024-01-30T22:11:01.470726",
     "exception": false,
     "start_time": "2024-01-30T22:10:59.293005",
     "status": "completed"
    },
    "tags": []
   },
   "outputs": [
    {
     "data": {
      "image/png": "[encoded data removed]",
      "text/plain": [
       "<Figure size 640x480 with 2 Axes>"
      ]
     },
     "metadata": {},
     "output_type": "display_data"
    }
   ],
   "source": [
    "# Confusion matrix between actual and predicted labels\n",
    "from sklearn import metrics\n",
    "import matplotlib.pyplot as plt\n",
    "\n",
    "cm = metrics.confusion_matrix(testy,predicted_drugs,labels=['DrugY', 'drugC', 'drugX', 'drugA', 'drugB'])\n",
    "cm_display = metrics.ConfusionMatrixDisplay(cm,display_labels=['DrugY', 'drugC', 'drugX', 'drugA', 'drugB'])\n",
    "cm_display.plot()\n",
    "plt.show()"
   ]
  },
  {
   "cell_type": "code",
   "execution_count": 25,
   "id": "b187cee1",
   "metadata": {
    "execution": {
     "iopub.execute_input": "2024-01-30T22:11:01.502229Z",
     "iopub.status.busy": "2024-01-30T22:11:01.501259Z",
     "iopub.status.idle": "2024-01-30T22:11:01.510003Z",
     "shell.execute_reply": "2024-01-30T22:11:01.508558Z"
    },
    "papermill": {
     "duration": 0.02719,
     "end_time": "2024-01-30T22:11:01.512735",
     "exception": false,
     "start_time": "2024-01-30T22:11:01.485545",
     "status": "completed"
    },
    "tags": []
   },
   "outputs": [
    {
     "name": "stdout",
     "output_type": "stream",
     "text": [
      "Error: 34.0%\n"
     ]
    }
   ],
   "source": [
    "# Error rate\n",
    "error = sum(testy != predicted_drugs) / len(testy)\n",
    "print(f\"Error: {error*100}%\")"
   ]
  }
 ],
 "metadata": {
  "kaggle": {
   "accelerator": "none",
   "dataSources": [
    {
     "datasetId": 830916,
     "sourceId": 1419436,
     "sourceType": "datasetVersion"
    }
   ],
   "dockerImageVersionId": 30635,
   "isGpuEnabled": false,
   "isInternetEnabled": true,
   "language": "python",
   "sourceType": "notebook"
  },
  "kernelspec": {
   "display_name": "Python 3",
   "language": "python",
   "name": "python3"
  },
  "language_info": {
   "codemirror_mode": {
    "name": "ipython",
    "version": 3
   },
   "file_extension": ".py",
   "mimetype": "text/x-python",
   "name": "python",
   "nbconvert_exporter": "python",
   "pygments_lexer": "ipython3",
   "version": "3.10.12"
  },
  "papermill": {
   "default_parameters": {},
   "duration": 13.75217,
   "end_time": "2024-01-30T22:11:02.451702",
   "environment_variables": {},
   "exception": null,
   "input_path": "__notebook__.ipynb",
   "output_path": "__notebook__.ipynb",
   "parameters": {},
   "start_time": "2024-01-30T22:10:48.699532",
   "version": "2.4.0"
  }
 },
 "nbformat": 4,
 "nbformat_minor": 5
}
